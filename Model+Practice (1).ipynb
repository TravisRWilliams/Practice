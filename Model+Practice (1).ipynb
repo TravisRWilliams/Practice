{
 "cells": [
  {
   "cell_type": "code",
   "execution_count": 1,
   "metadata": {},
   "outputs": [
    {
     "data": {
      "text/html": [
       "\n",
       "<style>\n",
       "\n",
       "div.cell { /* Tunes the space between cells */\n",
       "margin-top:1em;\n",
       "margin-bottom:1em;\n",
       "}\n",
       "\n",
       "div.text_cell_render h1 { /* Main titles bigger, centered */\n",
       "font-size: 1.6em;\n",
       "line-height:1.4em\n",
       "text-align:center;\n",
       "}\n",
       "\n",
       "div.text_cell_render h2 { /*  Parts names nearer from text */\n",
       "margin-bottom: -0.4em;\n",
       "}\n",
       "\n",
       "\n",
       "div.text_cell_render { /* Customize text cells */\n",
       "font-family: 'Times New Roman';\n",
       "font-size:1.3em;\n",
       "line-height:1.4em;\n",
       "padding-right:3em;\n",
       "}\n",
       "</style>\n"
      ],
      "text/plain": [
       "<IPython.core.display.HTML object>"
      ]
     },
     "execution_count": 1,
     "metadata": {},
     "output_type": "execute_result"
    }
   ],
   "source": [
    "from IPython.core.display import HTML\n",
    "HTML(\"\"\"\n",
    "<style>\n",
    "\n",
    "div.cell { /* Tunes the space between cells */\n",
    "margin-top:1em;\n",
    "margin-bottom:1em;\n",
    "}\n",
    "\n",
    "div.text_cell_render h1 { /* Main titles bigger, centered */\n",
    "font-size: 1.6em;\n",
    "line-height:1.4em\n",
    "text-align:center;\n",
    "}\n",
    "\n",
    "div.text_cell_render h2 { /*  Parts names nearer from text */\n",
    "margin-bottom: -0.4em;\n",
    "}\n",
    "\n",
    "\n",
    "div.text_cell_render { /* Customize text cells */\n",
    "font-family: 'Times New Roman';\n",
    "font-size:1.3em;\n",
    "line-height:1.4em;\n",
    "padding-right:3em;\n",
    "}\n",
    "</style>\n",
    "\"\"\")"
   ]
  },
  {
   "cell_type": "code",
   "execution_count": 2,
   "metadata": {},
   "outputs": [
    {
     "name": "stdout",
     "output_type": "stream",
     "text": [
      "Populating the interactive namespace from numpy and matplotlib\n"
     ]
    }
   ],
   "source": [
    "import numpy as np\n",
    "import pandas as pd\n",
    "import matplotlib.pyplot as plt\n",
    "import seaborn as sns\n",
    "%pylab inline\n",
    "from itertools import cycle, islice\n",
    "import pylab as pl\n",
    "import operator\n",
    "import re\n",
    "from collections import OrderedDict\n",
    "import pickle\n",
    "import matplotlib.colors as colors\n",
    "import math\n",
    "from scipy import stats"
   ]
  },
  {
   "cell_type": "code",
   "execution_count": 36,
   "metadata": {},
   "outputs": [
    {
     "data": {
      "text/plain": [
       "Unnamed: 0                          int64\n",
       "AGIFinal                           object\n",
       "AUDIT_RESULT                       object\n",
       "Agi_Comp                            int64\n",
       "Annl_SLCSP_Prem_Comp                int64\n",
       "Annual_Contrib_Health_Care_Amt      int64\n",
       "Aptc_Amt_Comp                       int64\n",
       "Aptc_Amt_From_1040                  int64\n",
       "Bal_Due_Amt_Comp                    int64\n",
       "Bal_Due_Amt_CompFinal              object\n",
       "Bod_Cd                             object\n",
       "City                               object\n",
       "Current_Ty_Exemptions               int64\n",
       "Cycle_Scored                        int64\n",
       "DISP_CD                             int64\n",
       "Ddb_Ptc_900_Cdb                     int64\n",
       "Ddb_Ptc_901_Cdb                     int64\n",
       "Ddb_Ptc_902_Cdb                     int64\n",
       "Ddb_Ptc_903_Cdb                     int64\n",
       "Ddb_Ptc_904_Cdb                     int64\n",
       "Ddb_Ptc_910_Cdb                     int64\n",
       "Ddb_Ptc_911_Cdb                     int64\n",
       "Ddb_Ptc_912_Cdb                     int64\n",
       "Ddb_Ptc_913_Cdb                     int64\n",
       "Ddb_Ptc_914_Cdb                     int64\n",
       "Dependent_Ind                     float64\n",
       "Exc_Aptc_Amt                        int64\n",
       "Exc_Aptc_Lim_Amt                    int64\n",
       "Exposure_AmtFinal                  object\n",
       "Family_Size                         int64\n",
       "                                   ...   \n",
       "Hardship_Ind                        int64\n",
       "Household_Income_Amt                int64\n",
       "Idt_Cond                           object\n",
       "PTC_Scored_Count                    int64\n",
       "Prior_Ty_Exemptions                 int64\n",
       "Prior_Ty_Filing_Status            float64\n",
       "Prisoner_Ind                       object\n",
       "Ptc_Amt_Comp                        int64\n",
       "Ptc_Amt_To_Agi_Pct_Comp           float64\n",
       "Ptc_Err_190_Cdb                     int64\n",
       "Ptc_Err_191_Cdb                     int64\n",
       "Ptc_Err_193_Cdb                     int64\n",
       "Ptc_Err_194_Cdb                     int64\n",
       "Ptc_Err_195_Cdb                     int64\n",
       "Ptc_Err_196_Cdb                     int64\n",
       "Ptc_Err_197_Cdb                     int64\n",
       "Ptc_Err_198_Cdb                     int64\n",
       "Ptc_Err_199_Cdb                     int64\n",
       "Ptc_Err_344_Cdb                     int64\n",
       "Ptc_Ind                             int64\n",
       "Ptc_Magi_Amt                        int64\n",
       "Recon_Ptc_Amt                       int64\n",
       "Recon_Ptc_Amt_Sum                   int64\n",
       "Sch_C_Prof_Loss_AmtFinal           object\n",
       "Sch_C_To_Agi_Pct_Comp             float64\n",
       "Scnd_Taxpayer_Age                   int64\n",
       "State                              object\n",
       "Taxpayer_Age                        int64\n",
       "Tot_Income                          int64\n",
       "tin                                 int64\n",
       "Length: 64, dtype: object"
      ]
     },
     "execution_count": 36,
     "metadata": {},
     "output_type": "execute_result"
    }
   ],
   "source": [
    "#seaborn settings\n",
    "sns.set_palette(\"deep\", desat=.6)\n",
    "sns.set_context(rc={\"figure.figsize\": (8,4)})\n",
    "\n",
    "#set pandas so i can view all dataframne columns\n",
    "pd.set_option('display.max_columns', None)\n",
    "\n",
    "#import csv file\n",
    "PTCAudit = pd.read_csv('PTCAudit.csv',low_memory=False)\n",
    "PTCAudit.head()\n",
    "PTCAudit.dtypes"
   ]
  },
  {
   "cell_type": "code",
   "execution_count": 41,
   "metadata": {},
   "outputs": [
    {
     "ename": "ValueError",
     "evalue": "could not convert string to float: '4-$20,001 to $30,000'",
     "output_type": "error",
     "traceback": [
      "\u001b[1;31m---------------------------------------------------------------------------\u001b[0m",
      "\u001b[1;31mValueError\u001b[0m                                Traceback (most recent call last)",
      "\u001b[1;32m<ipython-input-41-9af267b33ddc>\u001b[0m in \u001b[0;36m<module>\u001b[1;34m()\u001b[0m\n\u001b[1;32m----> 1\u001b[1;33m \u001b[0mPTCAudit\u001b[0m\u001b[1;33m[\u001b[0m\u001b[1;34m'AGIFinal2'\u001b[0m\u001b[1;33m]\u001b[0m \u001b[1;33m=\u001b[0m \u001b[0mPTCAudit\u001b[0m\u001b[1;33m[\u001b[0m\u001b[1;34m'AGIFinal'\u001b[0m\u001b[1;33m]\u001b[0m\u001b[1;33m.\u001b[0m\u001b[0mastype\u001b[0m\u001b[1;33m(\u001b[0m\u001b[1;34m'float'\u001b[0m\u001b[1;33m)\u001b[0m\u001b[1;33m\u001b[0m\u001b[0m\n\u001b[0m\u001b[0;32m      2\u001b[0m \u001b[0mPTCAudit\u001b[0m\u001b[1;33m.\u001b[0m\u001b[0mdtypes\u001b[0m\u001b[1;33m\u001b[0m\u001b[0m\n",
      "\u001b[1;32mC:\\Users\\Travis\\Anaconda3\\lib\\site-packages\\pandas\\util\\_decorators.py\u001b[0m in \u001b[0;36mwrapper\u001b[1;34m(*args, **kwargs)\u001b[0m\n\u001b[0;32m     89\u001b[0m                 \u001b[1;32melse\u001b[0m\u001b[1;33m:\u001b[0m\u001b[1;33m\u001b[0m\u001b[0m\n\u001b[0;32m     90\u001b[0m                     \u001b[0mkwargs\u001b[0m\u001b[1;33m[\u001b[0m\u001b[0mnew_arg_name\u001b[0m\u001b[1;33m]\u001b[0m \u001b[1;33m=\u001b[0m \u001b[0mnew_arg_value\u001b[0m\u001b[1;33m\u001b[0m\u001b[0m\n\u001b[1;32m---> 91\u001b[1;33m             \u001b[1;32mreturn\u001b[0m \u001b[0mfunc\u001b[0m\u001b[1;33m(\u001b[0m\u001b[1;33m*\u001b[0m\u001b[0margs\u001b[0m\u001b[1;33m,\u001b[0m \u001b[1;33m**\u001b[0m\u001b[0mkwargs\u001b[0m\u001b[1;33m)\u001b[0m\u001b[1;33m\u001b[0m\u001b[0m\n\u001b[0m\u001b[0;32m     92\u001b[0m         \u001b[1;32mreturn\u001b[0m \u001b[0mwrapper\u001b[0m\u001b[1;33m\u001b[0m\u001b[0m\n\u001b[0;32m     93\u001b[0m     \u001b[1;32mreturn\u001b[0m \u001b[0m_deprecate_kwarg\u001b[0m\u001b[1;33m\u001b[0m\u001b[0m\n",
      "\u001b[1;32mC:\\Users\\Travis\\Anaconda3\\lib\\site-packages\\pandas\\core\\generic.py\u001b[0m in \u001b[0;36mastype\u001b[1;34m(self, dtype, copy, errors, **kwargs)\u001b[0m\n\u001b[0;32m   3297\u001b[0m         \u001b[1;31m# else, only a single dtype is given\u001b[0m\u001b[1;33m\u001b[0m\u001b[1;33m\u001b[0m\u001b[0m\n\u001b[0;32m   3298\u001b[0m         new_data = self._data.astype(dtype=dtype, copy=copy, errors=errors,\n\u001b[1;32m-> 3299\u001b[1;33m                                      **kwargs)\n\u001b[0m\u001b[0;32m   3300\u001b[0m         \u001b[1;32mreturn\u001b[0m \u001b[0mself\u001b[0m\u001b[1;33m.\u001b[0m\u001b[0m_constructor\u001b[0m\u001b[1;33m(\u001b[0m\u001b[0mnew_data\u001b[0m\u001b[1;33m)\u001b[0m\u001b[1;33m.\u001b[0m\u001b[0m__finalize__\u001b[0m\u001b[1;33m(\u001b[0m\u001b[0mself\u001b[0m\u001b[1;33m)\u001b[0m\u001b[1;33m\u001b[0m\u001b[0m\n\u001b[0;32m   3301\u001b[0m \u001b[1;33m\u001b[0m\u001b[0m\n",
      "\u001b[1;32mC:\\Users\\Travis\\Anaconda3\\lib\\site-packages\\pandas\\core\\internals.py\u001b[0m in \u001b[0;36mastype\u001b[1;34m(self, dtype, **kwargs)\u001b[0m\n\u001b[0;32m   3222\u001b[0m \u001b[1;33m\u001b[0m\u001b[0m\n\u001b[0;32m   3223\u001b[0m     \u001b[1;32mdef\u001b[0m \u001b[0mastype\u001b[0m\u001b[1;33m(\u001b[0m\u001b[0mself\u001b[0m\u001b[1;33m,\u001b[0m \u001b[0mdtype\u001b[0m\u001b[1;33m,\u001b[0m \u001b[1;33m**\u001b[0m\u001b[0mkwargs\u001b[0m\u001b[1;33m)\u001b[0m\u001b[1;33m:\u001b[0m\u001b[1;33m\u001b[0m\u001b[0m\n\u001b[1;32m-> 3224\u001b[1;33m         \u001b[1;32mreturn\u001b[0m \u001b[0mself\u001b[0m\u001b[1;33m.\u001b[0m\u001b[0mapply\u001b[0m\u001b[1;33m(\u001b[0m\u001b[1;34m'astype'\u001b[0m\u001b[1;33m,\u001b[0m \u001b[0mdtype\u001b[0m\u001b[1;33m=\u001b[0m\u001b[0mdtype\u001b[0m\u001b[1;33m,\u001b[0m \u001b[1;33m**\u001b[0m\u001b[0mkwargs\u001b[0m\u001b[1;33m)\u001b[0m\u001b[1;33m\u001b[0m\u001b[0m\n\u001b[0m\u001b[0;32m   3225\u001b[0m \u001b[1;33m\u001b[0m\u001b[0m\n\u001b[0;32m   3226\u001b[0m     \u001b[1;32mdef\u001b[0m \u001b[0mconvert\u001b[0m\u001b[1;33m(\u001b[0m\u001b[0mself\u001b[0m\u001b[1;33m,\u001b[0m \u001b[1;33m**\u001b[0m\u001b[0mkwargs\u001b[0m\u001b[1;33m)\u001b[0m\u001b[1;33m:\u001b[0m\u001b[1;33m\u001b[0m\u001b[0m\n",
      "\u001b[1;32mC:\\Users\\Travis\\Anaconda3\\lib\\site-packages\\pandas\\core\\internals.py\u001b[0m in \u001b[0;36mapply\u001b[1;34m(self, f, axes, filter, do_integrity_check, consolidate, **kwargs)\u001b[0m\n\u001b[0;32m   3089\u001b[0m \u001b[1;33m\u001b[0m\u001b[0m\n\u001b[0;32m   3090\u001b[0m             \u001b[0mkwargs\u001b[0m\u001b[1;33m[\u001b[0m\u001b[1;34m'mgr'\u001b[0m\u001b[1;33m]\u001b[0m \u001b[1;33m=\u001b[0m \u001b[0mself\u001b[0m\u001b[1;33m\u001b[0m\u001b[0m\n\u001b[1;32m-> 3091\u001b[1;33m             \u001b[0mapplied\u001b[0m \u001b[1;33m=\u001b[0m \u001b[0mgetattr\u001b[0m\u001b[1;33m(\u001b[0m\u001b[0mb\u001b[0m\u001b[1;33m,\u001b[0m \u001b[0mf\u001b[0m\u001b[1;33m)\u001b[0m\u001b[1;33m(\u001b[0m\u001b[1;33m**\u001b[0m\u001b[0mkwargs\u001b[0m\u001b[1;33m)\u001b[0m\u001b[1;33m\u001b[0m\u001b[0m\n\u001b[0m\u001b[0;32m   3092\u001b[0m             \u001b[0mresult_blocks\u001b[0m \u001b[1;33m=\u001b[0m \u001b[0m_extend_blocks\u001b[0m\u001b[1;33m(\u001b[0m\u001b[0mapplied\u001b[0m\u001b[1;33m,\u001b[0m \u001b[0mresult_blocks\u001b[0m\u001b[1;33m)\u001b[0m\u001b[1;33m\u001b[0m\u001b[0m\n\u001b[0;32m   3093\u001b[0m \u001b[1;33m\u001b[0m\u001b[0m\n",
      "\u001b[1;32mC:\\Users\\Travis\\Anaconda3\\lib\\site-packages\\pandas\\core\\internals.py\u001b[0m in \u001b[0;36mastype\u001b[1;34m(self, dtype, copy, errors, values, **kwargs)\u001b[0m\n\u001b[0;32m    469\u001b[0m     \u001b[1;32mdef\u001b[0m \u001b[0mastype\u001b[0m\u001b[1;33m(\u001b[0m\u001b[0mself\u001b[0m\u001b[1;33m,\u001b[0m \u001b[0mdtype\u001b[0m\u001b[1;33m,\u001b[0m \u001b[0mcopy\u001b[0m\u001b[1;33m=\u001b[0m\u001b[1;32mFalse\u001b[0m\u001b[1;33m,\u001b[0m \u001b[0merrors\u001b[0m\u001b[1;33m=\u001b[0m\u001b[1;34m'raise'\u001b[0m\u001b[1;33m,\u001b[0m \u001b[0mvalues\u001b[0m\u001b[1;33m=\u001b[0m\u001b[1;32mNone\u001b[0m\u001b[1;33m,\u001b[0m \u001b[1;33m**\u001b[0m\u001b[0mkwargs\u001b[0m\u001b[1;33m)\u001b[0m\u001b[1;33m:\u001b[0m\u001b[1;33m\u001b[0m\u001b[0m\n\u001b[0;32m    470\u001b[0m         return self._astype(dtype, copy=copy, errors=errors, values=values,\n\u001b[1;32m--> 471\u001b[1;33m                             **kwargs)\n\u001b[0m\u001b[0;32m    472\u001b[0m \u001b[1;33m\u001b[0m\u001b[0m\n\u001b[0;32m    473\u001b[0m     def _astype(self, dtype, copy=False, errors='raise', values=None,\n",
      "\u001b[1;32mC:\\Users\\Travis\\Anaconda3\\lib\\site-packages\\pandas\\core\\internals.py\u001b[0m in \u001b[0;36m_astype\u001b[1;34m(self, dtype, copy, errors, values, klass, mgr, **kwargs)\u001b[0m\n\u001b[0;32m    519\u001b[0m \u001b[1;33m\u001b[0m\u001b[0m\n\u001b[0;32m    520\u001b[0m                 \u001b[1;31m# _astype_nansafe works fine with 1-d only\u001b[0m\u001b[1;33m\u001b[0m\u001b[1;33m\u001b[0m\u001b[0m\n\u001b[1;32m--> 521\u001b[1;33m                 \u001b[0mvalues\u001b[0m \u001b[1;33m=\u001b[0m \u001b[0mastype_nansafe\u001b[0m\u001b[1;33m(\u001b[0m\u001b[0mvalues\u001b[0m\u001b[1;33m.\u001b[0m\u001b[0mravel\u001b[0m\u001b[1;33m(\u001b[0m\u001b[1;33m)\u001b[0m\u001b[1;33m,\u001b[0m \u001b[0mdtype\u001b[0m\u001b[1;33m,\u001b[0m \u001b[0mcopy\u001b[0m\u001b[1;33m=\u001b[0m\u001b[1;32mTrue\u001b[0m\u001b[1;33m)\u001b[0m\u001b[1;33m\u001b[0m\u001b[0m\n\u001b[0m\u001b[0;32m    522\u001b[0m                 \u001b[0mvalues\u001b[0m \u001b[1;33m=\u001b[0m \u001b[0mvalues\u001b[0m\u001b[1;33m.\u001b[0m\u001b[0mreshape\u001b[0m\u001b[1;33m(\u001b[0m\u001b[0mself\u001b[0m\u001b[1;33m.\u001b[0m\u001b[0mshape\u001b[0m\u001b[1;33m)\u001b[0m\u001b[1;33m\u001b[0m\u001b[0m\n\u001b[0;32m    523\u001b[0m \u001b[1;33m\u001b[0m\u001b[0m\n",
      "\u001b[1;32mC:\\Users\\Travis\\Anaconda3\\lib\\site-packages\\pandas\\core\\dtypes\\cast.py\u001b[0m in \u001b[0;36mastype_nansafe\u001b[1;34m(arr, dtype, copy)\u001b[0m\n\u001b[0;32m    634\u001b[0m \u001b[1;33m\u001b[0m\u001b[0m\n\u001b[0;32m    635\u001b[0m     \u001b[1;32mif\u001b[0m \u001b[0mcopy\u001b[0m\u001b[1;33m:\u001b[0m\u001b[1;33m\u001b[0m\u001b[0m\n\u001b[1;32m--> 636\u001b[1;33m         \u001b[1;32mreturn\u001b[0m \u001b[0marr\u001b[0m\u001b[1;33m.\u001b[0m\u001b[0mastype\u001b[0m\u001b[1;33m(\u001b[0m\u001b[0mdtype\u001b[0m\u001b[1;33m)\u001b[0m\u001b[1;33m\u001b[0m\u001b[0m\n\u001b[0m\u001b[0;32m    637\u001b[0m     \u001b[1;32mreturn\u001b[0m \u001b[0marr\u001b[0m\u001b[1;33m.\u001b[0m\u001b[0mview\u001b[0m\u001b[1;33m(\u001b[0m\u001b[0mdtype\u001b[0m\u001b[1;33m)\u001b[0m\u001b[1;33m\u001b[0m\u001b[0m\n\u001b[0;32m    638\u001b[0m \u001b[1;33m\u001b[0m\u001b[0m\n",
      "\u001b[1;31mValueError\u001b[0m: could not convert string to float: '4-$20,001 to $30,000'"
     ]
    }
   ],
   "source": [
    "PTCAudit['AGIFinal2'] = PTCAudit['AGIFinal'].astype('float')\n",
    "PTCAudit.dtypes"
   ]
  },
  {
   "cell_type": "markdown",
   "metadata": {},
   "source": [
    "Automatic Feature Selection\n",
    "\n",
    "Often we collected many features that might be related to a supervised prediction task, but we don't know which of them are actually predictive. To improve interpretability, and sometimes also generalization performance, we can use automatic feature selection to select a subset of the original features. There are several types of feature selection methods available, which we'll explain in order of increasing complexity.\n",
    "\n",
    "For a given supervised model, the best feature selection strategy would be to try out each possible subset of the features, and evaluate generalization performance using this subset. However, there are exponentially many subsets of features, so this exhaustive search is generally infeasible. The strategies discussed below can be thought of as proxies for this infeasible computation.\n",
    "\n",
    "Model-based Feature Selection\n",
    "\n",
    "A somewhat more sophisticated method for feature selection is using a supervised machine learning model and selecting features based on how important they were deemed by the model. This requires the model to provide some way to rank the features by importance. This can be done for all tree-based models (which implement get_feature_importances) and all linear models, for which the coefficients can be used to determine how much influence a feature has on the outcome.\n",
    "\n",
    "Any of these models can be made into a transformer that does feature selection by wrapping it with the SelectFromModel class:"
   ]
  },
  {
   "cell_type": "code",
   "execution_count": 4,
   "metadata": {},
   "outputs": [
    {
     "name": "stdout",
     "output_type": "stream",
     "text": [
      "0.705436156764\n",
      "0.698578199052\n"
     ]
    }
   ],
   "source": [
    "from sklearn.model_selection import train_test_split\n",
    "from sklearn.linear_model import LogisticRegression\n",
    "from sklearn.metrics import accuracy_score\n",
    "\n",
    "# Split the data into a training and test set.\n",
    "Xlr, Xtestlr, ylr, ytestlr = train_test_split(PTCAudit[[ 'Agi_Comp','Family_Size', 'Filing_Status','First_Time_Filer','Ptc_Magi_Amt']].values, \n",
    "                                              (PTCAudit.AUDIT_RESULT == \"BADRETURN\").values,random_state=5)\n",
    "\n",
    "clf = LogisticRegression()\n",
    "# Fit the model on the trainng data.\n",
    "clf.fit(Xlr, ylr)\n",
    "# Print the accuracy from the training and testing data.\n",
    "print(accuracy_score(clf.predict(Xlr), ylr))\n",
    "print(accuracy_score(clf.predict(Xtestlr), ytestlr))"
   ]
  },
  {
   "cell_type": "code",
   "execution_count": 16,
   "metadata": {},
   "outputs": [
    {
     "name": "stdout",
     "output_type": "stream",
     "text": [
      "Labels for training and testing data\n",
      "1007     BADRETURN\n",
      "7526     BADRETURN\n",
      "1818    GOODRETURN\n",
      "1022    GOODRETURN\n",
      "1049     BADRETURN\n",
      "5760     BADRETURN\n",
      "6198    GOODRETURN\n",
      "5191    GOODRETURN\n",
      "1706     BADRETURN\n",
      "6291    GOODRETURN\n",
      "752     GOODRETURN\n",
      "271      BADRETURN\n",
      "7005     BADRETURN\n",
      "6585     BADRETURN\n",
      "3353     BADRETURN\n",
      "316      BADRETURN\n",
      "4512     BADRETURN\n",
      "659      BADRETURN\n",
      "1424    GOODRETURN\n",
      "1018     BADRETURN\n",
      "2638    GOODRETURN\n",
      "4534    GOODRETURN\n",
      "5498    GOODRETURN\n",
      "2003     BADRETURN\n",
      "3050     BADRETURN\n",
      "892      BADRETURN\n",
      "2952     BADRETURN\n",
      "5369     BADRETURN\n",
      "7104    GOODRETURN\n",
      "6625     BADRETURN\n",
      "           ...    \n",
      "7924     BADRETURN\n",
      "3125     BADRETURN\n",
      "4306     BADRETURN\n",
      "1703     BADRETURN\n",
      "115      BADRETURN\n",
      "1380     BADRETURN\n",
      "8433    GOODRETURN\n",
      "7556     BADRETURN\n",
      "8435     BADRETURN\n",
      "3555    GOODRETURN\n",
      "1931     BADRETURN\n",
      "3193    GOODRETURN\n",
      "7515    GOODRETURN\n",
      "3765    GOODRETURN\n",
      "4452     BADRETURN\n",
      "3307     BADRETURN\n",
      "4328     BADRETURN\n",
      "4796     BADRETURN\n",
      "1945     BADRETURN\n",
      "1182     BADRETURN\n",
      "1524     BADRETURN\n",
      "5675     BADRETURN\n",
      "218      BADRETURN\n",
      "7321     BADRETURN\n",
      "7843     BADRETURN\n",
      "1882    GOODRETURN\n",
      "5040     BADRETURN\n",
      "259      BADRETURN\n",
      "2992     BADRETURN\n",
      "2337    GOODRETURN\n",
      "Name: AUDIT_RESULT, Length: 6328, dtype: object\n",
      "3410     BADRETURN\n",
      "5181     BADRETURN\n",
      "2570    GOODRETURN\n",
      "6825     BADRETURN\n",
      "2910     BADRETURN\n",
      "8081     BADRETURN\n",
      "7299     BADRETURN\n",
      "4005     BADRETURN\n",
      "1689    GOODRETURN\n",
      "3589    GOODRETURN\n",
      "1334    GOODRETURN\n",
      "5145     BADRETURN\n",
      "243     GOODRETURN\n",
      "2808    GOODRETURN\n",
      "5447     BADRETURN\n",
      "5064     BADRETURN\n",
      "7429     BADRETURN\n",
      "7024     BADRETURN\n",
      "3305    GOODRETURN\n",
      "5401     BADRETURN\n",
      "6575     BADRETURN\n",
      "4782     BADRETURN\n",
      "2599    GOODRETURN\n",
      "2728    GOODRETURN\n",
      "4354     BADRETURN\n",
      "1214     BADRETURN\n",
      "2027    GOODRETURN\n",
      "7257     BADRETURN\n",
      "1943     BADRETURN\n",
      "6862     BADRETURN\n",
      "           ...    \n",
      "900     GOODRETURN\n",
      "2585    GOODRETURN\n",
      "7841    GOODRETURN\n",
      "3855     BADRETURN\n",
      "7225     BADRETURN\n",
      "4066     BADRETURN\n",
      "6502     BADRETURN\n",
      "4453    GOODRETURN\n",
      "2749     BADRETURN\n",
      "5106     BADRETURN\n",
      "7355    GOODRETURN\n",
      "2608     BADRETURN\n",
      "113      BADRETURN\n",
      "4687     BADRETURN\n",
      "5349    GOODRETURN\n",
      "4376    GOODRETURN\n",
      "1358     BADRETURN\n",
      "4329     BADRETURN\n",
      "3371    GOODRETURN\n",
      "8388    GOODRETURN\n",
      "380     GOODRETURN\n",
      "3818     BADRETURN\n",
      "2508     BADRETURN\n",
      "5164     BADRETURN\n",
      "2941     BADRETURN\n",
      "8244     BADRETURN\n",
      "7933     BADRETURN\n",
      "7042     BADRETURN\n",
      "3539     BADRETURN\n",
      "3308     BADRETURN\n",
      "Name: AUDIT_RESULT, Length: 2110, dtype: object\n"
     ]
    }
   ],
   "source": [
    "from sklearn.model_selection import train_test_split\n",
    "\n",
    "X, y = PTCAudit[[\"Agi_Comp\", \"Ptc_Err_190_Cdb\"]], PTCAudit[\"AUDIT_RESULT\"]\n",
    "\n",
    "train_X, test_X, train_y, test_y = train_test_split(X, y)\n",
    "\n",
    "print(\"Labels for training and testing data\")\n",
    "print(train_y)\n",
    "print(test_y)"
   ]
  },
  {
   "cell_type": "code",
   "execution_count": 14,
   "metadata": {
    "collapsed": true
   },
   "outputs": [],
   "source": [
    "from sklearn.feature_selection import SelectFromModel\n",
    "from sklearn.ensemble import RandomForestClassifier\n",
    "select = SelectFromModel(RandomForestClassifier(n_estimators=100, random_state=42), threshold=\"median\")"
   ]
  },
  {
   "cell_type": "code",
   "execution_count": 18,
   "metadata": {},
   "outputs": [
    {
     "name": "stdout",
     "output_type": "stream",
     "text": [
      "(6328, 2)\n",
      "(6328, 1)\n"
     ]
    }
   ],
   "source": [
    "select.fit(train_X, train_y)\n",
    "X_train_rf = select.transform(train_X)\n",
    "print(train_X.shape)\n",
    "print(X_train_rf.shape)"
   ]
  },
  {
   "cell_type": "code",
   "execution_count": 19,
   "metadata": {},
   "outputs": [
    {
     "data": {
      "text/plain": [
       "<matplotlib.image.AxesImage at 0x24179cc8550>"
      ]
     },
     "execution_count": 19,
     "metadata": {},
     "output_type": "execute_result"
    },
    {
     "data": {
      "image/png": "[encoded data removed]",
      "text/plain": [
       "<matplotlib.figure.Figure at 0x24179b66a20>"
      ]
     },
     "metadata": {},
     "output_type": "display_data"
    }
   ],
   "source": [
    "mask = select.get_support()\n",
    "# visualize the mask. black is True, white is False\n",
    "plt.matshow(mask.reshape(1, -1), cmap='gray_r')"
   ]
  },
  {
   "cell_type": "code",
   "execution_count": 21,
   "metadata": {},
   "outputs": [
    {
     "data": {
      "text/plain": [
       "0.68862559241706156"
      ]
     },
     "execution_count": 21,
     "metadata": {},
     "output_type": "execute_result"
    }
   ],
   "source": [
    "X_test_rf = select.transform(test_X)\n",
    "LogisticRegression().fit(X_train_rf, train_y).score(X_test_rf, test_y)"
   ]
  },
  {
   "cell_type": "markdown",
   "metadata": {},
   "source": [
    "This method builds a single model (in this case a random forest) and uses the feature importances from this model. We can do a somewhat more elaborate search by training multiple models on subsets of the data. One particular strategy is recursive feature elimination:"
   ]
  },
  {
   "cell_type": "markdown",
   "metadata": {},
   "source": [
    "Recursive Feature Elimination\n",
    "\n",
    "Recursive feature elimination builds a model on the full set of features, and similar to the method above selects a subset of features that are deemed most important by the model. However, usually only a single feature is dropped from the dataset, and a new model is built with the remaining features. The process of dropping features and model building is repeated until there are only a pre-specified number of features left:"
   ]
  },
  {
   "cell_type": "code",
   "execution_count": 27,
   "metadata": {},
   "outputs": [
    {
     "data": {
      "text/plain": [
       "<matplotlib.image.AxesImage at 0x24179f7c128>"
      ]
     },
     "execution_count": 27,
     "metadata": {},
     "output_type": "execute_result"
    },
    {
     "data": {
      "image/png": "[encoded data removed]",
      "text/plain": [
       "<matplotlib.figure.Figure at 0x24179d7edd8>"
      ]
     },
     "metadata": {},
     "output_type": "display_data"
    }
   ],
   "source": [
    "from sklearn.feature_selection import RFE\n",
    "select = RFE(RandomForestClassifier(n_estimators=100, random_state=42), n_features_to_select=40)\n",
    "\n",
    "select.fit(train_X, train_y)\n",
    "# visualize the selected features:\n",
    "mask = select.get_support()\n",
    "plt.matshow(mask.reshape(1, -1), cmap='gray_r')"
   ]
  },
  {
   "cell_type": "code",
   "execution_count": 28,
   "metadata": {},
   "outputs": [
    {
     "data": {
      "text/plain": [
       "0.68862559241706156"
      ]
     },
     "execution_count": 28,
     "metadata": {},
     "output_type": "execute_result"
    }
   ],
   "source": [
    "X_train_rfe = select.transform(train_X)\n",
    "X_test_rfe = select.transform(test_X)\n",
    "\n",
    "LogisticRegression().fit(X_train_rfe, train_y).score(X_test_rfe, test_y)"
   ]
  },
  {
   "cell_type": "code",
   "execution_count": 29,
   "metadata": {},
   "outputs": [
    {
     "data": {
      "text/plain": [
       "0.63222748815165875"
      ]
     },
     "execution_count": 29,
     "metadata": {},
     "output_type": "execute_result"
    }
   ],
   "source": [
    "select.score(test_X, test_y)"
   ]
  },
  {
   "cell_type": "code",
   "execution_count": null,
   "metadata": {
    "collapsed": true
   },
   "outputs": [],
   "source": []
  }
 ],
 "metadata": {
  "kernelspec": {
   "display_name": "Python 3",
   "language": "python",
   "name": "python3"
  },
  "language_info": {
   "codemirror_mode": {
    "name": "ipython",
    "version": 3
   },
   "file_extension": ".py",
   "mimetype": "text/x-python",
   "name": "python",
   "nbconvert_exporter": "python",
   "pygments_lexer": "ipython3",
   "version": "3.6.1"
  }
 },
 "nbformat": 4,
 "nbformat_minor": 2
}
